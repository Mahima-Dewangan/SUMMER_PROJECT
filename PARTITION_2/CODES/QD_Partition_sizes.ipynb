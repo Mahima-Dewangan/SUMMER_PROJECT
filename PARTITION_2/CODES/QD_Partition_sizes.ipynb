{
 "cells": [
  {
   "cell_type": "code",
   "execution_count": 3,
   "id": "3f946229",
   "metadata": {},
   "outputs": [
    {
     "name": "stdout",
     "output_type": "stream",
     "text": [
      "  Query Touched_Partitions  Total Partition Size (MB)\n",
      "0    q1               [P5]                        136\n",
      "1    q2               [P5]                        136\n",
      "2    q3               [P2]                        138\n",
      "3    q4               [P3]                        150\n"
     ]
    }
   ],
   "source": [
    "import pandas as pd\n",
    "\n",
    "# Define partitions from the layout\n",
    "partitions = [\n",
    "    {\"id\": \"P1\", \"x\": 100, \"y\": 0, \"width\": 4400, \"height\": 13, \"size\": 140},\n",
    "    {\"id\": \"P2\", \"x\": 100, \"y\": 13, \"width\": 4400, \"height\": 12, \"size\": 138},\n",
    "    {\"id\": \"P3\", \"x\": 4501, \"y\": 0, \"width\": 2299, \"height\": 13, \"size\": 150},\n",
    "    {\"id\": \"P4\", \"x\": 6801, \"y\": 0, \"width\": 2199, \"height\": 13, \"size\": 128},\n",
    "    {\"id\": \"P5\", \"x\": 4501, \"y\": 13, \"width\": 4499, \"height\": 12, \"size\": 136},\n",
    "]\n",
    "\n",
    "# Define queries, updated q4 to only touch P3\n",
    "queries = [\n",
    "    {\"id\": \"q1\", \"x\": 5000, \"y\": 14, \"width\": 400, \"height\": 3},\n",
    "    {\"id\": \"q2\", \"x\": 5500, \"y\": 18, \"width\": 500, \"height\": 3},\n",
    "    {\"id\": \"q3\", \"x\": 1200, \"y\": 15, \"width\": 2800, \"height\": 4},\n",
    "    # q4 is now completely inside P3 (within x: 4600–5000, y: 2–10)\n",
    "    {\"id\": \"q4\", \"x\": 4600, \"y\": 2, \"width\": 400, \"height\": 6},\n",
    "]\n",
    "\n",
    "# Overlap function\n",
    "def overlaps(query, partition):\n",
    "    q_x1, q_y1 = query[\"x\"], query[\"y\"]\n",
    "    q_x2, q_y2 = q_x1 + query[\"width\"], q_y1 + query[\"height\"]\n",
    "\n",
    "    p_x1, p_y1 = partition[\"x\"], partition[\"y\"]\n",
    "    p_x2, p_y2 = p_x1 + partition[\"width\"], p_y1 + partition[\"height\"]\n",
    "\n",
    "    return not (q_x2 <= p_x1 or q_x1 >= p_x2 or q_y2 <= p_y1 or q_y1 >= p_y2)\n",
    "\n",
    "# Compute overlaps and sizes\n",
    "query_partition_sizes = []\n",
    "for q in queries:\n",
    "    total_size = 0\n",
    "    touched_partitions = []\n",
    "    for p in partitions:\n",
    "        if overlaps(q, p):\n",
    "            total_size += p[\"size\"]\n",
    "            touched_partitions.append(p[\"id\"])\n",
    "    query_partition_sizes.append({\n",
    "        \"Query\": q[\"id\"],\n",
    "        \"Touched_Partitions\": touched_partitions,\n",
    "        \"Total Partition Size (MB)\": total_size\n",
    "    })\n",
    "\n",
    "# Output as DataFrame\n",
    "partition_size_df = pd.DataFrame(query_partition_sizes)\n",
    "print(partition_size_df)\n"
   ]
  }
 ],
 "metadata": {
  "kernelspec": {
   "display_name": "Python 3",
   "language": "python",
   "name": "python3"
  },
  "language_info": {
   "codemirror_mode": {
    "name": "ipython",
    "version": 3
   },
   "file_extension": ".py",
   "mimetype": "text/x-python",
   "name": "python",
   "nbconvert_exporter": "python",
   "pygments_lexer": "ipython3",
   "version": "3.13.5"
  }
 },
 "nbformat": 4,
 "nbformat_minor": 5
}
