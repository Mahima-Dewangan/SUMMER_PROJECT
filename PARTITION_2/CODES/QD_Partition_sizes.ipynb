{
 "cells": [
  {
   "cell_type": "code",
   "execution_count": 5,
   "id": "f3a8ae9f",
   "metadata": {},
   "outputs": [
    {
     "data": {
      "text/html": [
       "<div>\n",
       "<style scoped>\n",
       "    .dataframe tbody tr th:only-of-type {\n",
       "        vertical-align: middle;\n",
       "    }\n",
       "\n",
       "    .dataframe tbody tr th {\n",
       "        vertical-align: top;\n",
       "    }\n",
       "\n",
       "    .dataframe thead th {\n",
       "        text-align: right;\n",
       "    }\n",
       "</style>\n",
       "<table border=\"1\" class=\"dataframe\">\n",
       "  <thead>\n",
       "    <tr style=\"text-align: right;\">\n",
       "      <th></th>\n",
       "      <th>Query</th>\n",
       "      <th>Touched_Partitions</th>\n",
       "      <th>Total Partition Size (MB)</th>\n",
       "    </tr>\n",
       "  </thead>\n",
       "  <tbody>\n",
       "    <tr>\n",
       "      <th>0</th>\n",
       "      <td>q1</td>\n",
       "      <td>[P3]</td>\n",
       "      <td>119</td>\n",
       "    </tr>\n",
       "    <tr>\n",
       "      <th>1</th>\n",
       "      <td>q2</td>\n",
       "      <td>[P3]</td>\n",
       "      <td>119</td>\n",
       "    </tr>\n",
       "    <tr>\n",
       "      <th>2</th>\n",
       "      <td>q3</td>\n",
       "      <td>[P1]</td>\n",
       "      <td>140</td>\n",
       "    </tr>\n",
       "    <tr>\n",
       "      <th>3</th>\n",
       "      <td>q4</td>\n",
       "      <td>[P5]</td>\n",
       "      <td>136</td>\n",
       "    </tr>\n",
       "  </tbody>\n",
       "</table>\n",
       "</div>"
      ],
      "text/plain": [
       "  Query Touched_Partitions  Total Partition Size (MB)\n",
       "0    q1               [P3]                        119\n",
       "1    q2               [P3]                        119\n",
       "2    q3               [P1]                        140\n",
       "3    q4               [P5]                        136"
      ]
     },
     "metadata": {},
     "output_type": "display_data"
    }
   ],
   "source": [
    "import pandas as pd\n",
    "import numpy as np\n",
    "\n",
    "\n",
    "# Calculate just the total size of partitions touched by each query \n",
    "query_partition_sizes = []\n",
    "for q in queries:\n",
    "    total_size = 0\n",
    "    touched_partitions = []\n",
    "    for p in partitions:\n",
    "        if overlaps(q, p):\n",
    "            total_size += p['size']\n",
    "            touched_partitions.append(p['id'])\n",
    "    query_partition_sizes.append({\n",
    "        'Query': q['id'],\n",
    "        'Touched_Partitions': touched_partitions,\n",
    "        'Total Partition Size (MB)': total_size\n",
    "    })\n",
    "\n",
    "partition_size_df = pd.DataFrame(query_partition_sizes)\n",
    "display(partition_size_df)  # or use print(partition_size_df)\n"
   ]
  }
 ],
 "metadata": {
  "kernelspec": {
   "display_name": "Python 3",
   "language": "python",
   "name": "python3"
  },
  "language_info": {
   "codemirror_mode": {
    "name": "ipython",
    "version": 3
   },
   "file_extension": ".py",
   "mimetype": "text/x-python",
   "name": "python",
   "nbconvert_exporter": "python",
   "pygments_lexer": "ipython3",
   "version": "3.13.5"
  }
 },
 "nbformat": 4,
 "nbformat_minor": 5
}
