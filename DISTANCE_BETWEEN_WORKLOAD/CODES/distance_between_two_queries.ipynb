{
 "cells": [
  {
   "cell_type": "code",
   "execution_count": 2,
   "id": "86d38178",
   "metadata": {},
   "outputs": [
    {
     "name": "stdout",
     "output_type": "stream",
     "text": [
      "Distance Matrix (QH vs QF):\n",
      "      q5    q6    q7    q8\n",
      "q1  6000  3500  5000  2000\n",
      "q2  6700  7000  5700  4300\n",
      "q3  3000  4500  2000  1800\n",
      "q4  8000   500  6500  3200\n"
     ]
    }
   ],
   "source": [
    "import pandas as pd\n",
    "\n",
    "# Define the bounds for each query in QH and QF\n",
    "# Format: (custkey_lower, custkey_upper, acctbal_lower, acctbal_upper, nationkey_lower, nationkey_upper)\n",
    "QH = {\n",
    "    \"q1\": (50, 120, 1000, 5000, 5, 15),\n",
    "    \"q2\": (70, 90, 300, 8500, 0, 10),\n",
    "    \"q3\": (10, 190, 4000, 6000, 12, 20),\n",
    "    \"q4\": (1, 50, 100, 1000, 0, 5)\n",
    "}\n",
    "\n",
    "QF = {\n",
    "    \"q5\": (150, 200, 7000, 9000, 18, 24),\n",
    "    \"q6\": (130, 180, 100, 1500, 0, 3),\n",
    "    \"q7\": (10, 30, 6000, 7500, 10, 14),\n",
    "    \"q8\": (90, 130, 3000, 4200, 1, 6)\n",
    "}\n",
    "\n",
    "# Helper: Reshape to per-dimension tuples\n",
    "def reshape_bounds(bounds):\n",
    "    return [(bounds[i], bounds[i+1]) for i in range(0, len(bounds), 2)]\n",
    "\n",
    "# Function to compute dist_box(qi, qj)\n",
    "def dist_box(qi, qj):\n",
    "    max_dist = 0\n",
    "    for d in range(3):  # 3 dimensions: custkey, acctbal, nationkey\n",
    "        qi_ld, qi_ud = qi[d]\n",
    "        qj_ld, qj_ud = qj[d]\n",
    "        ld_diff = abs(qi_ld - qj_ld)\n",
    "        ud_diff = abs(qi_ud - qj_ud)\n",
    "        dim_max = max(ld_diff, ud_diff)\n",
    "        max_dist = max(max_dist, dim_max)\n",
    "    return max_dist\n",
    "\n",
    "# Create distance matrix\n",
    "dist_matrix = pd.DataFrame(index=QH.keys(), columns=QF.keys())\n",
    "\n",
    "# Compute distances\n",
    "for qi_name, qi_bounds in QH.items():\n",
    "    qi_reshaped = reshape_bounds(qi_bounds)\n",
    "    for qj_name, qj_bounds in QF.items():\n",
    "        qj_reshaped = reshape_bounds(qj_bounds)\n",
    "        dist_matrix.loc[qi_name, qj_name] = dist_box(qi_reshaped, qj_reshaped)\n",
    "\n",
    "# Display the distance matrix\n",
    "print(\"Distance Matrix (QH vs QF):\")\n",
    "print(dist_matrix)\n"
   ]
  },
  {
   "cell_type": "code",
   "execution_count": null,
   "id": "81ac10fe",
   "metadata": {},
   "outputs": [],
   "source": []
  }
 ],
 "metadata": {
  "kernelspec": {
   "display_name": "Python 3",
   "language": "python",
   "name": "python3"
  },
  "language_info": {
   "codemirror_mode": {
    "name": "ipython",
    "version": 3
   },
   "file_extension": ".py",
   "mimetype": "text/x-python",
   "name": "python",
   "nbconvert_exporter": "python",
   "pygments_lexer": "ipython3",
   "version": "3.13.5"
  }
 },
 "nbformat": 4,
 "nbformat_minor": 5
}
