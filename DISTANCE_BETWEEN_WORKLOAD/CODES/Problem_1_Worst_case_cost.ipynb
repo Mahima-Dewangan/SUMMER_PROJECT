{
 "cells": [
  {
   "cell_type": "code",
   "execution_count": null,
   "id": "a8143630",
   "metadata": {},
   "outputs": [
    {
     "name": "stdout",
     "output_type": "stream",
     "text": [
      "         Cost(P, q)\n",
      "q5            278.0\n",
      "q6            119.0\n",
      "q7            255.0\n",
      "q8            118.0\n",
      "Total         770.0\n",
      "Average       192.5\n"
     ]
    }
   ],
   "source": [
    "import pandas as pd\n",
    "\n",
    "# Define partitions and their sizes (P layout)\n",
    "partitions = {\n",
    "    \"P1\": {\"custkey\": (0, 50), \"acctbal\": (100, 3000), \"nationkey\": (0, 10), \"size\": 140},\n",
    "    \"P2\": {\"custkey\": (0, 50), \"acctbal\": (3000, 5000), \"nationkey\": (10, 20), \"size\": 138},\n",
    "    \"P3\": {\"custkey\": (50, 100), \"acctbal\": (5000, 7000), \"nationkey\": (0, 10), \"size\": 150},\n",
    "    \"P4\": {\"custkey\": (100, 150), \"acctbal\": (100, 3000), \"nationkey\": (10, 20), \"size\": 128},\n",
    "    \"P5\": {\"custkey\": (50, 150), \"acctbal\": (6000, 9000), \"nationkey\": (10, 24), \"size\": 136},\n",
    "}\n",
    "\n",
    "# Define QF queries (future workload)\n",
    "QF = {\n",
    "    \"q5\": (10, 50, 2500, 3500, 3, 13),\n",
    "    \"q6\": (60, 110, 4500, 5500, 8, 18),\n",
    "    \"q7\": (90, 140, 6500, 7500, 5, 15),\n",
    "    \"q8\": (120, 170, 1500, 2500, 10, 20)\n",
    "}\n",
    "\n",
    "# Helper to check if a query intersects with a partition\n",
    "def intersects(part, query):\n",
    "    return not (query[1] < part[\"custkey\"][0] or query[0] > part[\"custkey\"][1] or\n",
    "                query[3] < part[\"acctbal\"][0] or query[2] > part[\"acctbal\"][1] or\n",
    "                query[5] < part[\"nationkey\"][0] or query[4] > part[\"nationkey\"][1])\n",
    "\n",
    "# Compute Cost(P, q) and Cost(P, QF)\n",
    "query_costs = {}\n",
    "total_cost = 0\n",
    "\n",
    "for q_name, q_bounds in QF.items():\n",
    "    cost_q = 0\n",
    "    for p in partitions.values():\n",
    "        if intersects(p, q_bounds):\n",
    "            cost_q += p[\"size\"]\n",
    "    query_costs[q_name] = cost_q\n",
    "    total_cost += cost_q\n",
    "\n",
    "# Average cost per query\n",
    "avg_cost = total_cost / len(QF)\n",
    "\n",
    "# Display results\n",
    "query_costs_df = pd.DataFrame.from_dict(query_costs, orient='index', columns=[\"Cost(P, q)\"])\n",
    "query_costs_df.loc[\"Total\"] = total_cost\n",
    "query_costs_df.loc[\"Average\"] = avg_cost\n",
    "\n",
    "# import ace_tools as tools; tools.display_dataframe_to_user(name=\"Cost Table: Cost(P, q)\", dataframe=query_costs_df)\n",
    "print(query_costs_df)\n",
    "\n"
   ]
  },
  {
   "cell_type": "code",
   "execution_count": null,
   "id": "f45e2be9",
   "metadata": {},
   "outputs": [],
   "source": []
  }
 ],
 "metadata": {
  "kernelspec": {
   "display_name": "Python 3",
   "language": "python",
   "name": "python3"
  },
  "language_info": {
   "codemirror_mode": {
    "name": "ipython",
    "version": 3
   },
   "file_extension": ".py",
   "mimetype": "text/x-python",
   "name": "python",
   "nbconvert_exporter": "python",
   "pygments_lexer": "ipython3",
   "version": "3.13.5"
  }
 },
 "nbformat": 4,
 "nbformat_minor": 5
}
