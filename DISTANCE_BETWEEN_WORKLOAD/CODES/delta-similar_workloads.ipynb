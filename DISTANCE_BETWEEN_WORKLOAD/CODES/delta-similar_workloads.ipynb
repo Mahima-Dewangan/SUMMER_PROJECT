{
 "cells": [
  {
   "cell_type": "code",
   "execution_count": 3,
   "id": "aa131328",
   "metadata": {},
   "outputs": [
    {
     "data": {
      "text/plain": [
       "[('q1', 'q8'), ('q2', 'q7'), ('q3', 'q5'), ('q4', 'q6')]"
      ]
     },
     "execution_count": 3,
     "metadata": {},
     "output_type": "execute_result"
    }
   ],
   "source": [
    "import pandas as pd\n",
    "\n",
    "# Define the distance matrix (QH vs QF)\n",
    "data = {\n",
    "    'q5': [6000, 6700, 3000, 8000],\n",
    "    'q6': [3500, 7000, 4500, 500],\n",
    "    'q7': [5000, 5700, 2000, 6500],\n",
    "    'q8': [2000, 4300, 1800, 3200],\n",
    "}\n",
    "index = ['q1', 'q2', 'q3', 'q4']\n",
    "distance_matrix = pd.DataFrame(data, index=index)\n",
    "\n",
    "# Distance threshold\n",
    "delta = 6000\n",
    "\n",
    "# Find δ-similar query pairs satisfying the 1:1 mapping rule described in the paper\n",
    "from itertools import permutations\n",
    "\n",
    "QH = distance_matrix.index.tolist()\n",
    "QF = distance_matrix.columns.tolist()\n",
    "\n",
    "best_mapping = None\n",
    "min_total_distance = float('inf')\n",
    "\n",
    "# Try all permutations of QF queries to match QH\n",
    "for perm in permutations(QF):\n",
    "    valid = True\n",
    "    total_distance = 0\n",
    "    for qh, qf in zip(QH, perm):\n",
    "        dist = distance_matrix.loc[qh, qf]\n",
    "        if dist > delta:\n",
    "            valid = False\n",
    "            break\n",
    "        # total_distance += dist\n",
    "    if valid and total_distance < min_total_distance:\n",
    "        best_mapping = list(zip(QH, perm))\n",
    "        # min_total_distance = total_distance\n",
    "\n",
    "# best_mapping, min_total_distance\n",
    "best_mapping\n"
   ]
  },
  {
   "cell_type": "code",
   "execution_count": null,
   "id": "052f6547",
   "metadata": {},
   "outputs": [],
   "source": []
  }
 ],
 "metadata": {
  "kernelspec": {
   "display_name": "Python 3",
   "language": "python",
   "name": "python3"
  },
  "language_info": {
   "codemirror_mode": {
    "name": "ipython",
    "version": 3
   },
   "file_extension": ".py",
   "mimetype": "text/x-python",
   "name": "python",
   "nbconvert_exporter": "python",
   "pygments_lexer": "ipython3",
   "version": "3.13.5"
  }
 },
 "nbformat": 4,
 "nbformat_minor": 5
}
