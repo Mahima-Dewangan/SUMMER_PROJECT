{
 "cells": [
  {
   "cell_type": "code",
   "execution_count": 4,
   "id": "33e63562",
   "metadata": {},
   "outputs": [
    {
     "name": "stdout",
     "output_type": "stream",
     "text": [
      "  QF (qf') QH (qj)  Distance\n",
      "0       q5      q2      6700\n",
      "1       q6      q3      4500\n",
      "2       q7      q4      6500\n",
      "3       q8      q1      2000\n"
     ]
    }
   ],
   "source": [
    "import pandas as pd\n",
    "\n",
    "# Define QH and QF explicitly\n",
    "QH = [\"q1\", \"q2\", \"q3\", \"q4\"]\n",
    "QF = [\"q5\", \"q6\", \"q7\", \"q8\"]\n",
    "\n",
    "# Define the distance matrix as per the image (QH vs QF)\n",
    "distance_matrix = {\n",
    "    \"q5\": [6000, 6700, 3000, 8000],\n",
    "    \"q6\": [3500, 7000, 4500, 500],\n",
    "    \"q7\": [5000, 5700, 2000, 6500],\n",
    "    \"q8\": [2000, 4300, 1800, 3200]\n",
    "}\n",
    "\n",
    "# Create DataFrame with QH as rows and QF as columns\n",
    "df = pd.DataFrame(distance_matrix, index=QH)\n",
    "\n",
    "# Matching conditions:\n",
    "# (i) dist(qi', qj) ≤ δ\n",
    "# (ii) each qf ∈ QF appears exactly once\n",
    "# (iii) each qh ∈ QH appears exactly |QF| / |QH| = 1 times\n",
    "\n",
    "# Set δ threshold\n",
    "delta = 7000\n",
    "\n",
    "# Initialize result matching\n",
    "matching = []\n",
    "\n",
    "# Track usage\n",
    "used_qh_count = {qh: 0 for qh in QH}\n",
    "max_use_per_qh = len(QF) // len(QH)\n",
    "used_qf = set()\n",
    "\n",
    "# Process QF first, then QH (maximize distance instead of minimizing)\n",
    "for qf in QF:\n",
    "    best_match = None\n",
    "    max_dist = -1\n",
    "    for qh in QH:\n",
    "        dist = df.loc[qh, qf]\n",
    "        if dist <= delta and used_qh_count[qh] < max_use_per_qh and qf not in used_qf:\n",
    "            if dist > max_dist:\n",
    "                max_dist = dist\n",
    "                best_match = qh\n",
    "    if best_match:\n",
    "        matching.append((qf, best_match, max_dist))\n",
    "        used_qh_count[best_match] += 1\n",
    "        used_qf.add(qf)\n",
    "\n",
    "# Display matching as DataFrame\n",
    "matching_df = pd.DataFrame(matching, columns=[\"QF (qf')\", \"QH (qj)\", \"Distance\"])\n",
    "print(matching_df)\n"
   ]
  },
  {
   "cell_type": "code",
   "execution_count": null,
   "id": "9ca87597",
   "metadata": {},
   "outputs": [],
   "source": []
  }
 ],
 "metadata": {
  "kernelspec": {
   "display_name": "Python 3",
   "language": "python",
   "name": "python3"
  },
  "language_info": {
   "codemirror_mode": {
    "name": "ipython",
    "version": 3
   },
   "file_extension": ".py",
   "mimetype": "text/x-python",
   "name": "python",
   "nbconvert_exporter": "python",
   "pygments_lexer": "ipython3",
   "version": "3.13.5"
  }
 },
 "nbformat": 4,
 "nbformat_minor": 5
}
