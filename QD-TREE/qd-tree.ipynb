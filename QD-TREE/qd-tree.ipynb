{
 "cells": [
  {
   "cell_type": "code",
   "execution_count": 1,
   "id": "a8c6d83d",
   "metadata": {},
   "outputs": [
    {
     "name": "stdout",
     "output_type": "stream",
     "text": [
      "Requirement already satisfied: graphviz in c:\\users\\admin\\anaconda3\\lib\\site-packages (0.20.3)\n"
     ]
    }
   ],
   "source": [
    "!pip install graphviz"
   ]
  },
  {
   "cell_type": "code",
   "execution_count": 2,
   "id": "22c05195",
   "metadata": {},
   "outputs": [],
   "source": [
    "import pandas as pd\n",
    "from graphviz import Digraph"
   ]
  },
  {
   "cell_type": "code",
   "execution_count": 3,
   "id": "f970fa16",
   "metadata": {},
   "outputs": [],
   "source": [
    "# Node definition\n",
    "class QDTreeNode:\n",
    "    def __init__(self, data_range, customers, depth=0):\n",
    "        self.range = data_range  # (min_val, max_val)\n",
    "        self.customers = customers\n",
    "        self.left = None\n",
    "        self.right = None\n",
    "        self.depth = depth\n",
    "\n",
    "    def label(self):\n",
    "        return f\"[{self.range[0]:.1f}, {self.range[1]:.1f}]\\nCount: {len(self.customers)}\"\n"
   ]
  },
  {
   "cell_type": "code",
   "execution_count": 4,
   "id": "017da5c9",
   "metadata": {},
   "outputs": [],
   "source": [
    "# Load customer.tbl\n",
    "def load_customer_table(filepath):\n",
    "    columns = [\n",
    "        \"c_custkey\", \"c_name\", \"c_address\", \"c_nationkey\", \"c_phone\",\n",
    "        \"c_acctbal\", \"c_mktsegment\", \"c_comment\"\n",
    "    ]\n",
    "    df = pd.read_csv(filepath, sep='|', header=None, names=columns, usecols=range(8))\n",
    "    df[\"c_acctbal\"] = pd.to_numeric(df[\"c_acctbal\"], errors='coerce')\n",
    "    return df"
   ]
  },
  {
   "cell_type": "code",
   "execution_count": 5,
   "id": "1756ee6c",
   "metadata": {},
   "outputs": [],
   "source": [
    "# Build the qd-tree recursively\n",
    "def build_qd_tree(data, attr, depth=0, max_depth=4, min_size=10):\n",
    "    if len(data) <= min_size or depth == max_depth:\n",
    "        return QDTreeNode((data[attr].min(), data[attr].max()), data, depth)\n",
    "    \n",
    "    median = data[attr].median()\n",
    "    left_data = data[data[attr] < median]\n",
    "    right_data = data[data[attr] >= median]\n",
    "\n",
    "    node = QDTreeNode((data[attr].min(), data[attr].max()), data, depth)\n",
    "    node.left = build_qd_tree(left_data, attr, depth+1, max_depth, min_size)\n",
    "    node.right = build_qd_tree(right_data, attr, depth+1, max_depth, min_size)\n",
    "    return node"
   ]
  },
  {
   "cell_type": "code",
   "execution_count": 6,
   "id": "01ac905f",
   "metadata": {},
   "outputs": [],
   "source": [
    "# Visualize the QD-tree using Graphviz\n",
    "def visualize_tree(root, filename=\"qd_tree\"):\n",
    "    dot = Digraph()\n",
    "    \n",
    "    def add_nodes_edges(node, parent_id=None):\n",
    "        if node is None:\n",
    "            return\n",
    "        node_id = str(id(node))\n",
    "        dot.node(node_id, node.label())\n",
    "        if parent_id:\n",
    "            dot.edge(parent_id, node_id)\n",
    "        add_nodes_edges(node.left, node_id)\n",
    "        add_nodes_edges(node.right, node_id)\n",
    "\n",
    "    add_nodes_edges(root)\n",
    "    dot.render(filename, format=\"png\", cleanup=True)\n",
    "    print(f\"Tree visual saved to {filename}.png\")"
   ]
  },
  {
   "cell_type": "code",
   "execution_count": 7,
   "id": "f1ec39f2",
   "metadata": {},
   "outputs": [
    {
     "name": "stdout",
     "output_type": "stream",
     "text": [
      "Tree visual saved to qd_tree_acctbal.png\n"
     ]
    }
   ],
   "source": [
    "# === Main Execution ===\n",
    "if __name__ == \"__main__\":\n",
    "    filepath = \"C:\\\\Users\\\\admin\\\\Desktop\\\\customer.tbl\"  # Update path if needed\n",
    "    df = load_customer_table(filepath)\n",
    "\n",
    "    root = build_qd_tree(df, \"c_acctbal\", max_depth=4, min_size=50)\n",
    "    visualize_tree(root, filename=\"qd_tree_acctbal\")"
   ]
  }
 ],
 "metadata": {
  "kernelspec": {
   "display_name": "base",
   "language": "python",
   "name": "python3"
  },
  "language_info": {
   "codemirror_mode": {
    "name": "ipython",
    "version": 3
   },
   "file_extension": ".py",
   "mimetype": "text/x-python",
   "name": "python",
   "nbconvert_exporter": "python",
   "pygments_lexer": "ipython3",
   "version": "3.12.7"
  }
 },
 "nbformat": 4,
 "nbformat_minor": 5
}
